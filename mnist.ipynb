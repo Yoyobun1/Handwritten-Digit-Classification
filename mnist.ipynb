{
 "cells": [
  {
   "cell_type": "code",
   "execution_count": 1,
   "metadata": {},
   "outputs": [],
   "source": [
    "from tensorflow.keras.datasets import mnist\n",
    "data = mnist.load_data()"
   ]
  },
  {
   "cell_type": "code",
   "execution_count": 2,
   "metadata": {},
   "outputs": [],
   "source": [
    "(X_train, y_train), (X_test, y_test) = data"
   ]
  },
  {
   "cell_type": "code",
   "execution_count": 3,
   "metadata": {},
   "outputs": [
    {
     "data": {
      "text/plain": [
       "(28, 28)"
      ]
     },
     "execution_count": 3,
     "metadata": {},
     "output_type": "execute_result"
    }
   ],
   "source": [
    "X_train[0].shape"
   ]
  },
  {
   "cell_type": "markdown",
   "metadata": {},
   "source": [
    "The following step will convert the images which are by default a 2d array with each image being 28*28 pixels \n",
    "into a 1d array where each image is an array of 784 (28 x 28) elements\n",
    "- this makes it easier for neural network to understand the data\n",
    "- there are a total of 60000 images in the mnist dataset"
   ]
  },
  {
   "cell_type": "code",
   "execution_count": 4,
   "metadata": {},
   "outputs": [],
   "source": [
    "X_train = X_train.reshape(-1, 28*28).astype(\"float32\")"
   ]
  },
  {
   "cell_type": "code",
   "execution_count": 5,
   "metadata": {},
   "outputs": [],
   "source": [
    "X_test = X_test.reshape(-1, 28*28).astype(\"float32\")"
   ]
  },
  {
   "cell_type": "code",
   "execution_count": 7,
   "metadata": {},
   "outputs": [
    {
     "data": {
      "text/plain": [
       "(60000, 784)"
      ]
     },
     "execution_count": 7,
     "metadata": {},
     "output_type": "execute_result"
    }
   ],
   "source": [
    "X_train.shape"
   ]
  },
  {
   "cell_type": "code",
   "execution_count": 8,
   "metadata": {},
   "outputs": [
    {
     "data": {
      "text/plain": [
       "(10000, 784)"
      ]
     },
     "execution_count": 8,
     "metadata": {},
     "output_type": "execute_result"
    }
   ],
   "source": [
    "X_test.shape"
   ]
  },
  {
   "cell_type": "code",
   "execution_count": 9,
   "metadata": {},
   "outputs": [
    {
     "name": "stdout",
     "output_type": "stream",
     "text": [
      "X_train shape: (60000, 784)\n",
      "X_test shape: (10000, 784)\n",
      "y_train shape: (60000,)\n",
      "y_test shape: (10000,)\n"
     ]
    }
   ],
   "source": [
    "print(\"X_train shape:\", X_train.shape)  # Should print (60000, 784)\n",
    "print(\"X_test shape:\", X_test.shape)      # Should print (10000, 784)\n",
    "print(\"y_train shape:\", y_train.shape)    # Should print (60000,)\n",
    "print(\"y_test shape:\", y_test.shape)      # Should print (10000,)\n"
   ]
  },
  {
   "cell_type": "markdown",
   "metadata": {},
   "source": [
    "Now for better data processing we need to convert each of these values to a number between 0 and 1\n",
    "- each element in the 1d array will be a value between 0 and 255 (RGB Scheme)\n",
    "- convert it by dividing it by 255"
   ]
  },
  {
   "cell_type": "code",
   "execution_count": 10,
   "metadata": {},
   "outputs": [],
   "source": [
    "X_train = X_train / 255\n",
    "X_test = X_test / 255"
   ]
  },
  {
   "cell_type": "code",
   "execution_count": 11,
   "metadata": {},
   "outputs": [],
   "source": [
    "from tensorflow.keras.models import Sequential\n",
    "from tensorflow.keras.layers import Dense"
   ]
  },
  {
   "cell_type": "code",
   "execution_count": 12,
   "metadata": {},
   "outputs": [],
   "source": [
    "model = Sequential()\n",
    "model.add(Dense(32,input_dim=28*28, activation=\"relu\"))\n",
    "model.add(Dense(64,activation=\"relu\"))\n",
    "model.add(Dense(10,activation=\"softmax\"))"
   ]
  },
  {
   "cell_type": "code",
   "execution_count": 13,
   "metadata": {},
   "outputs": [
    {
     "name": "stdout",
     "output_type": "stream",
     "text": [
      "Model: \"sequential\"\n",
      "_________________________________________________________________\n",
      " Layer (type)                Output Shape              Param #   \n",
      "=================================================================\n",
      " dense (Dense)               (None, 32)                25120     \n",
      "                                                                 \n",
      " dense_1 (Dense)             (None, 64)                2112      \n",
      "                                                                 \n",
      " dense_2 (Dense)             (None, 10)                650       \n",
      "                                                                 \n",
      "=================================================================\n",
      "Total params: 27,882\n",
      "Trainable params: 27,882\n",
      "Non-trainable params: 0\n",
      "_________________________________________________________________\n"
     ]
    }
   ],
   "source": [
    "model.summary()"
   ]
  },
  {
   "cell_type": "code",
   "execution_count": 14,
   "metadata": {},
   "outputs": [],
   "source": [
    "import tensorflow as tf"
   ]
  },
  {
   "cell_type": "code",
   "execution_count": 21,
   "metadata": {},
   "outputs": [],
   "source": [
    "model.compile(optimizer=tf.keras.optimizers.Adam(),loss=tf.keras.losses.SparseCategoricalCrossentropy(), metrics=['accuracy'])"
   ]
  },
  {
   "cell_type": "code",
   "execution_count": 22,
   "metadata": {},
   "outputs": [],
   "source": [
    "from sklearn.model_selection import train_test_split\n",
    "X_cv, X_test_split, y_cv, y_test_split = train_test_split(X_test, y_test, test_size=0.5, random_state=42)\n"
   ]
  },
  {
   "cell_type": "code",
   "execution_count": 23,
   "metadata": {},
   "outputs": [
    {
     "name": "stdout",
     "output_type": "stream",
     "text": [
      "Epoch 1/10\n",
      "600/600 [==============================] - 3s 3ms/step - loss: 0.0661 - accuracy: 0.9796\n",
      "Epoch 2/10\n",
      "600/600 [==============================] - 2s 3ms/step - loss: 0.0601 - accuracy: 0.9817\n",
      "Epoch 3/10\n",
      "600/600 [==============================] - 2s 3ms/step - loss: 0.0559 - accuracy: 0.9828\n",
      "Epoch 4/10\n",
      "600/600 [==============================] - 2s 3ms/step - loss: 0.0526 - accuracy: 0.9838\n",
      "Epoch 5/10\n",
      "600/600 [==============================] - 2s 3ms/step - loss: 0.0489 - accuracy: 0.9852\n",
      "Epoch 6/10\n",
      "600/600 [==============================] - 2s 3ms/step - loss: 0.0442 - accuracy: 0.9865\n",
      "Epoch 7/10\n",
      "600/600 [==============================] - 2s 3ms/step - loss: 0.0415 - accuracy: 0.9876\n",
      "Epoch 8/10\n",
      "600/600 [==============================] - 2s 3ms/step - loss: 0.0386 - accuracy: 0.9880\n",
      "Epoch 9/10\n",
      "600/600 [==============================] - 2s 3ms/step - loss: 0.0353 - accuracy: 0.9890\n",
      "Epoch 10/10\n",
      "600/600 [==============================] - 2s 3ms/step - loss: 0.0338 - accuracy: 0.9897\n"
     ]
    }
   ],
   "source": [
    "history = model.fit(X_train, y_train, epochs=10, batch_size=100)"
   ]
  },
  {
   "cell_type": "code",
   "execution_count": 46,
   "metadata": {},
   "outputs": [],
   "source": [
    "from sklearn.metrics import accuracy_score, precision_score, confusion_matrix, ConfusionMatrixDisplay, classification_report\n",
    "import numpy as np\n",
    "import matplotlib.pyplot as plt"
   ]
  },
  {
   "cell_type": "code",
   "execution_count": 52,
   "metadata": {},
   "outputs": [
    {
     "name": "stdout",
     "output_type": "stream",
     "text": [
      "157/157 [==============================] - 0s 2ms/step - loss: 0.0956 - accuracy: 0.9718\n",
      "Test Loss: 0.0955612063407898\n",
      "Test Accuracy: 97.180003%\n"
     ]
    }
   ],
   "source": [
    "# getting loss and accuracy of cross validation data\n",
    "loss, accuracy = model.evaluate(X_cv, y_cv)\n",
    "print(f\"Test Loss: {loss}\")\n",
    "print(f\"Test Accuracy: {accuracy*100.:1f}%\")\n"
   ]
  },
  {
   "cell_type": "code",
   "execution_count": 34,
   "metadata": {},
   "outputs": [
    {
     "name": "stdout",
     "output_type": "stream",
     "text": [
      "157/157 [==============================] - 0s 2ms/step\n"
     ]
    }
   ],
   "source": [
    "y_pred = model.predict(X_cv)\n",
    "y_pred_classes = np.argmax(y_pred, axis=1)  # Get class prediction"
   ]
  },
  {
   "cell_type": "code",
   "execution_count": 53,
   "metadata": {},
   "outputs": [
    {
     "name": "stdout",
     "output_type": "stream",
     "text": [
      "Classification Report:\n",
      "              precision    recall  f1-score   support\n",
      "\n",
      "           0       0.10      0.10      0.10       486\n",
      "           1       0.11      0.11      0.11       574\n",
      "           2       0.10      0.10      0.10       508\n",
      "           3       0.10      0.11      0.11       487\n",
      "           4       0.10      0.10      0.10       481\n",
      "           5       0.11      0.10      0.10       477\n",
      "           6       0.09      0.09      0.09       464\n",
      "           7       0.11      0.11      0.11       532\n",
      "           8       0.07      0.07      0.07       494\n",
      "           9       0.10      0.10      0.10       497\n",
      "\n",
      "    accuracy                           0.10      5000\n",
      "   macro avg       0.10      0.10      0.10      5000\n",
      "weighted avg       0.10      0.10      0.10      5000\n",
      "\n",
      "\n",
      "Accuracy score: 9.98%\n",
      "Precision score: 9.957817%\n"
     ]
    }
   ],
   "source": [
    "# getting accuracy_score, precision_score, classification_report of cross validation set\n",
    "accuracy = accuracy_score(y_pred_classes, y_cv)\n",
    "precision = precision_score(y_pred_classes, y_cv, average=\"macro\")\n",
    "report = classification_report(y_cv, y_pred_classes)\n",
    "print(\"Classification Report:\")\n",
    "print(report)\n",
    "print()\n",
    "print(f\"Accuracy score: {accuracy*100}%\")\n",
    "print(f\"Precision score: {precision*100.:2f}%\")"
   ]
  },
  {
   "cell_type": "code",
   "execution_count": 54,
   "metadata": {},
   "outputs": [],
   "source": [
    "cm = confusion_matrix(y_cv, y_pred_classes)"
   ]
  },
  {
   "cell_type": "code",
   "execution_count": 55,
   "metadata": {},
   "outputs": [
    {
     "data": {
      "image/png": "[encoded data removed]",
      "text/plain": [
       "<Figure size 640x480 with 2 Axes>"
      ]
     },
     "metadata": {},
     "output_type": "display_data"
    }
   ],
   "source": [
    "# Create a confusion matrix display\n",
    "disp = ConfusionMatrixDisplay(confusion_matrix=cm, display_labels=np.unique(y_cv))\n",
    "\n",
    "# Plot the confusion matrix\n",
    "disp.plot(cmap='Blues')\n",
    "plt.title('Confusion Matrix')\n",
    "plt.show()"
   ]
  },
  {
   "cell_type": "code",
   "execution_count": 56,
   "metadata": {},
   "outputs": [
    {
     "name": "stdout",
     "output_type": "stream",
     "text": [
      "157/157 [==============================] - 0s 3ms/step\n"
     ]
    }
   ],
   "source": [
    "y_pred_test = model.predict(X_test_split)\n",
    "y_pred_classes_test = np.argmax(y_pred_test, axis=1)  # Get class prediction"
   ]
  },
  {
   "cell_type": "code",
   "execution_count": 57,
   "metadata": {},
   "outputs": [
    {
     "name": "stdout",
     "output_type": "stream",
     "text": [
      "Classification Report:\n",
      "              precision    recall  f1-score   support\n",
      "\n",
      "           0       0.98      0.99      0.98       494\n",
      "           1       0.99      0.99      0.99       561\n",
      "           2       0.97      0.97      0.97       524\n",
      "           3       0.96      0.98      0.97       523\n",
      "           4       0.97      0.97      0.97       501\n",
      "           5       0.97      0.96      0.97       415\n",
      "           6       0.98      0.97      0.98       494\n",
      "           7       0.97      0.98      0.97       496\n",
      "           8       0.96      0.97      0.96       480\n",
      "           9       0.97      0.96      0.96       512\n",
      "\n",
      "    accuracy                           0.97      5000\n",
      "   macro avg       0.97      0.97      0.97      5000\n",
      "weighted avg       0.97      0.97      0.97      5000\n",
      "\n",
      "\n",
      "Accuracy score: 97.28%\n",
      "Precision score: 97.245019%\n"
     ]
    }
   ],
   "source": [
    "accuracy = accuracy_score(y_pred_classes_test, y_test_split)\n",
    "precision = precision_score(y_pred_classes_test, y_test_split, average=\"macro\")\n",
    "report = classification_report(y_test_split, y_pred_classes_test)\n",
    "print(\"Classification Report:\")\n",
    "print(report)\n",
    "print()\n",
    "print(f\"Accuracy score: {accuracy*100}%\")\n",
    "print(f\"Precision score: {precision*100.:2f}%\")"
   ]
  },
  {
   "cell_type": "code",
   "execution_count": 63,
   "metadata": {},
   "outputs": [],
   "source": [
    "# Choose random samples from the test set\n",
    "num_samples = 5\n",
    "random_indices = np.random.choice(X_test.shape[0], num_samples, replace=False)\n",
    "unseen_data = X_test[random_indices]\n",
    "unseen_labels = y_test[random_indices]  # Use original integer labels\n"
   ]
  },
  {
   "cell_type": "code",
   "execution_count": 64,
   "metadata": {},
   "outputs": [
    {
     "name": "stdout",
     "output_type": "stream",
     "text": [
      "1/1 [==============================] - 0s 16ms/step\n",
      "Predictions for unseen data: [0 3 3 0 9]\n",
      "Actual labels for unseen data: [0 3 3 0 4]\n"
     ]
    }
   ],
   "source": [
    "# Make predictions on the unseen data\n",
    "predictions = model.predict(unseen_data)\n",
    "predicted_classes = np.argmax(predictions, axis=1)\n",
    "\n",
    "print(\"Predictions for unseen data:\", predicted_classes)\n",
    "print(\"Actual labels for unseen data:\", unseen_labels)\n"
   ]
  },
  {
   "cell_type": "code",
   "execution_count": 65,
   "metadata": {},
   "outputs": [
    {
     "data": {
      "image/png": "[encoded data removed]",
      "text/plain": [
       "<Figure size 1000x400 with 5 Axes>"
      ]
     },
     "metadata": {},
     "output_type": "display_data"
    }
   ],
   "source": [
    "# Plot the results\n",
    "plt.figure(figsize=(10, 4))\n",
    "for i in range(num_samples):\n",
    "    plt.subplot(2, num_samples, i + 1)\n",
    "    plt.imshow(unseen_data[i].reshape(28, 28), cmap='gray')  # Reshape to (28, 28)\n",
    "    plt.title(f\"Pred: {predicted_classes[i]}\\nTrue: {unseen_labels[i]}\")\n",
    "    plt.axis('off')\n",
    "plt.show()\n"
   ]
  },
  {
   "cell_type": "code",
   "execution_count": null,
   "metadata": {},
   "outputs": [],
   "source": []
  }
 ],
 "metadata": {
  "kernelspec": {
   "display_name": "mnistenv",
   "language": "python",
   "name": "python3"
  },
  "language_info": {
   "codemirror_mode": {
    "name": "ipython",
    "version": 3
   },
   "file_extension": ".py",
   "mimetype": "text/x-python",
   "name": "python",
   "nbconvert_exporter": "python",
   "pygments_lexer": "ipython3",
   "version": "3.9.18"
  }
 },
 "nbformat": 4,
 "nbformat_minor": 2
}
